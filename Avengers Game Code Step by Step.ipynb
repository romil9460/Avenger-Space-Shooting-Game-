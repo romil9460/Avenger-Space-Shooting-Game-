{
 "cells": [
  {
   "cell_type": "markdown",
   "id": "630d7cef",
   "metadata": {},
   "source": [
    "# Avangers Alien Fighting Game\n",
    "\n",
    "## Some Important Libraries "
   ]
  },
  {
   "cell_type": "code",
   "execution_count": 2,
   "id": "44f70c7b",
   "metadata": {},
   "outputs": [
    {
     "name": "stdout",
     "output_type": "stream",
     "text": [
      "pygame 2.1.2 (SDL 2.0.18, Python 3.10.5)\n",
      "Hello from the pygame community. https://www.pygame.org/contribute.html\n"
     ]
    }
   ],
   "source": [
    "import math\n",
    "import random\n",
    "import pygame\n",
    "from pygame import mixer"
   ]
  },
  {
   "cell_type": "markdown",
   "id": "dcafe169",
   "metadata": {},
   "source": [
    "## Intialize the pygame"
   ]
  },
  {
   "cell_type": "code",
   "execution_count": 7,
   "id": "ebe7e7fc",
   "metadata": {},
   "outputs": [
    {
     "data": {
      "text/plain": [
       "(5, 0)"
      ]
     },
     "execution_count": 7,
     "metadata": {},
     "output_type": "execute_result"
    }
   ],
   "source": [
    "pygame.init()"
   ]
  },
  {
   "cell_type": "markdown",
   "id": "1ed6a186",
   "metadata": {},
   "source": [
    "## create the screen"
   ]
  },
  {
   "cell_type": "code",
   "execution_count": 4,
   "id": "29550811",
   "metadata": {},
   "outputs": [],
   "source": [
    "screen = pygame.display.set_mode((800, 600))"
   ]
  },
  {
   "cell_type": "markdown",
   "id": "feb0da2c",
   "metadata": {},
   "source": [
    "## Background"
   ]
  },
  {
   "cell_type": "code",
   "execution_count": 8,
   "id": "ddd5da3f",
   "metadata": {},
   "outputs": [],
   "source": [
    "background = pygame.image.load(\"background.png\")"
   ]
  },
  {
   "cell_type": "markdown",
   "id": "ade10b4c",
   "metadata": {},
   "source": [
    "## Sound"
   ]
  },
  {
   "cell_type": "code",
   "execution_count": null,
   "id": "08351367",
   "metadata": {},
   "outputs": [],
   "source": [
    "mixer.music.load(\"background.wav\")\n",
    "mixer.music.play(-1)"
   ]
  },
  {
   "cell_type": "markdown",
   "id": "4cb823af",
   "metadata": {},
   "source": [
    "## Caption and Icon"
   ]
  },
  {
   "cell_type": "code",
   "execution_count": 11,
   "id": "a36a82d8",
   "metadata": {},
   "outputs": [],
   "source": [
    "pygame.display.set_caption(\"Space Invader\")\n",
    "icon = pygame.image.load('ufo.png')\n",
    "pygame.display.set_icon(icon)"
   ]
  },
  {
   "cell_type": "markdown",
   "id": "0c865600",
   "metadata": {},
   "source": [
    "## Player"
   ]
  },
  {
   "cell_type": "code",
   "execution_count": 13,
   "id": "974afdb9",
   "metadata": {},
   "outputs": [],
   "source": [
    "playerImg = pygame.image.load('player.png')\n",
    "playerX = 370\n",
    "playerY = 480\n",
    "playerX_change = 0\n",
    "\n",
    "def player(x, y):\n",
    "    screen.blit(playerImg, (x, y))\n"
   ]
  },
  {
   "cell_type": "markdown",
   "id": "d73ca97c",
   "metadata": {},
   "source": [
    "## Enemy"
   ]
  },
  {
   "cell_type": "code",
   "execution_count": 14,
   "id": "994accbe",
   "metadata": {},
   "outputs": [],
   "source": [
    "enemyImg = []\n",
    "enemyX = []\n",
    "enemyY = []\n",
    "enemyX_change = []\n",
    "enemyY_change = []\n",
    "num_of_enemies = 6\n",
    "\n",
    "for i in range(num_of_enemies):\n",
    "    enemyImg.append(pygame.image.load('enemy.png'))\n",
    "    enemyX.append(random.randint(0, 736))\n",
    "    enemyY.append(random.randint(50, 150))\n",
    "    enemyX_change.append(4)\n",
    "    enemyY_change.append(40)\n",
    "\n",
    "def enemy(x, y, i):\n",
    "    screen.blit(enemyImg[i], (x, y))"
   ]
  },
  {
   "cell_type": "markdown",
   "id": "648c1ec9",
   "metadata": {},
   "source": [
    "## Bullet"
   ]
  },
  {
   "cell_type": "code",
   "execution_count": 16,
   "id": "f27205d4",
   "metadata": {},
   "outputs": [],
   "source": [
    "# Ready - You can't see the bullet on the screen\n",
    "# Fire - The bullet is currently moving\n",
    "\n",
    "bulletImg = pygame.image.load('bullet.png')\n",
    "bulletX = 0\n",
    "bulletY = 480\n",
    "bulletX_change = 0\n",
    "bulletY_change = 10\n",
    "bullet_state = \"ready\"\n",
    "\n",
    "def fire_bullet(x, y):\n",
    "    global bullet_state\n",
    "    bullet_state = \"fire\"\n",
    "    screen.blit(bulletImg, (x + 16, y + 10))"
   ]
  },
  {
   "cell_type": "markdown",
   "id": "7f07ed57",
   "metadata": {},
   "source": [
    "## Score"
   ]
  },
  {
   "cell_type": "code",
   "execution_count": 17,
   "id": "df7aaee8",
   "metadata": {},
   "outputs": [],
   "source": [
    "score_value = 0\n",
    "font = pygame.font.Font('freesansbold.ttf', 32)\n",
    "\n",
    "textX = 10\n",
    "testY = 10\n",
    "\n",
    "def show_score(x, y):\n",
    "    score = font.render(\"Score : \" + str(score_value), True, (255, 255, 255))\n",
    "    screen.blit(score, (x, y))"
   ]
  },
  {
   "cell_type": "markdown",
   "id": "1a82567b",
   "metadata": {},
   "source": [
    "## Game Over"
   ]
  },
  {
   "cell_type": "code",
   "execution_count": 1,
   "id": "939d55a1",
   "metadata": {},
   "outputs": [
    {
     "ename": "NameError",
     "evalue": "name 'pygame' is not defined",
     "output_type": "error",
     "traceback": [
      "\u001b[1;31m---------------------------------------------------------------------------\u001b[0m",
      "\u001b[1;31mNameError\u001b[0m                                 Traceback (most recent call last)",
      "Input \u001b[1;32mIn [1]\u001b[0m, in \u001b[0;36m<cell line: 1>\u001b[1;34m()\u001b[0m\n\u001b[1;32m----> 1\u001b[0m over_font \u001b[38;5;241m=\u001b[39m \u001b[43mpygame\u001b[49m\u001b[38;5;241m.\u001b[39mfont\u001b[38;5;241m.\u001b[39mFont(\u001b[38;5;124m'\u001b[39m\u001b[38;5;124mfreesansbold.ttf\u001b[39m\u001b[38;5;124m'\u001b[39m, \u001b[38;5;241m64\u001b[39m)\n\u001b[0;32m      3\u001b[0m \u001b[38;5;28;01mdef\u001b[39;00m \u001b[38;5;21mgame_over_text\u001b[39m():\n\u001b[0;32m      4\u001b[0m     over_text \u001b[38;5;241m=\u001b[39m over_font\u001b[38;5;241m.\u001b[39mrender(\u001b[38;5;124m\"\u001b[39m\u001b[38;5;124mGAME OVER\u001b[39m\u001b[38;5;124m\"\u001b[39m, \u001b[38;5;28;01mTrue\u001b[39;00m, (\u001b[38;5;241m255\u001b[39m, \u001b[38;5;241m255\u001b[39m, \u001b[38;5;241m255\u001b[39m))\n",
      "\u001b[1;31mNameError\u001b[0m: name 'pygame' is not defined"
     ]
    }
   ],
   "source": [
    "over_font = pygame.font.Font('freesansbold.ttf', 64)\n",
    "\n",
    "def game_over_text():\n",
    "    over_text = over_font.render(\"GAME OVER\", True, (255, 255, 255))\n",
    "    screen.blit(over_text, (200, 250))"
   ]
  },
  {
   "cell_type": "markdown",
   "id": "27ac449c",
   "metadata": {},
   "source": [
    "## Game Logic Functions"
   ]
  },
  {
   "cell_type": "code",
   "execution_count": 2,
   "id": "a07a9f3f",
   "metadata": {},
   "outputs": [],
   "source": [
    "def isCollision(enemyX, enemyY, bulletX, bulletY):\n",
    "    distance = math.sqrt(math.pow(enemyX - bulletX, 2) + (math.pow(enemyY - bulletY, 2)))\n",
    "    if distance < 27:\n",
    "        return True\n",
    "    else:\n",
    "        return False"
   ]
  },
  {
   "cell_type": "markdown",
   "id": "4d77f7de",
   "metadata": {},
   "source": [
    "## Game Loop"
   ]
  },
  {
   "cell_type": "code",
   "execution_count": null,
   "id": "82cbe54d",
   "metadata": {},
   "outputs": [],
   "source": [
    "running = True\n",
    "while running:\n",
    "\n",
    "    # RGB = Red, Green, Blue\n",
    "    screen.fill((0, 0, 0))\n",
    "    # Background Image\n",
    "    screen.blit(background, (0, 0))\n",
    "    for event in pygame.event.get():\n",
    "        if event.type == pygame.QUIT:\n",
    "            running = False\n",
    "            pygame.quit()\n",
    "       \n",
    "        # if keystroke is pressed check whether its right or left\n",
    "        if event.type == pygame.KEYDOWN:\n",
    "            if event.key == pygame.K_ESCAPE:\n",
    "                pygame.quit()\n",
    "                sys.exit()\n",
    "            if event.key == pygame.K_LEFT:\n",
    "                playerX_change = -5\n",
    "            if event.key == pygame.K_RIGHT:\n",
    "                playerX_change = 5\n",
    "            if event.key == pygame.K_SPACE:\n",
    "                if bullet_state == \"ready\":\n",
    "                    bulletSound = mixer.Sound(\"laser.wav\")\n",
    "                    bulletSound.play()\n",
    "                    # Get the current x cordinate of the spaceship\n",
    "                    bulletX = playerX\n",
    "                    fire_bullet(bulletX, bulletY)\n",
    "\n",
    "        if event.type == pygame.KEYUP:\n",
    "            if event.key == pygame.K_LEFT or event.key == pygame.K_RIGHT:\n",
    "                playerX_change = 0\n",
    "\n",
    "    # 5 = 5 + -0.1 -> 5 = 5 - 0.1\n",
    "    # 5 = 5 + 0.1\n",
    "\n",
    "    playerX += playerX_change\n",
    "    if playerX <= 0:\n",
    "        playerX = 0\n",
    "    elif playerX >= 736:\n",
    "        playerX = 736\n",
    "\n",
    "    # Enemy Movement\n",
    "    for i in range(num_of_enemies):\n",
    "\n",
    "        # Game Over\n",
    "        if enemyY[i] > 440:\n",
    "            for j in range(num_of_enemies):\n",
    "                enemyY[j] = 2000\n",
    "            game_over_text()\n",
    "            break\n",
    "\n",
    "        enemyX[i] += enemyX_change[i]\n",
    "        if enemyX[i] <= 0:\n",
    "            enemyX_change[i] = 4\n",
    "            enemyY[i] += enemyY_change[i]\n",
    "        elif enemyX[i] >= 736:\n",
    "            enemyX_change[i] = -4\n",
    "            enemyY[i] += enemyY_change[i]\n",
    "\n",
    "        # Collision\n",
    "        collision = isCollision(enemyX[i], enemyY[i], bulletX, bulletY)\n",
    "        if collision:\n",
    "            explosionSound = mixer.Sound(\"explosion.wav\")\n",
    "            explosionSound.play()\n",
    "            bulletY = 480\n",
    "            bullet_state = \"ready\"\n",
    "            score_value += 1\n",
    "            enemyX[i] = random.randint(0, 736)\n",
    "            enemyY[i] = random.randint(50, 150)\n",
    "\n",
    "        enemy(enemyX[i], enemyY[i], i)\n",
    "\n",
    "    # Bullet Movement\n",
    "    if bulletY <= 0:\n",
    "        bulletY = 480\n",
    "        bullet_state = \"ready\"\n",
    "\n",
    "    if bullet_state == \"fire\":\n",
    "        fire_bullet(bulletX, bulletY)\n",
    "        bulletY -= bulletY_change\n",
    "\n",
    "    player(playerX, playerY)\n",
    "    show_score(textX, testY)\n",
    "    pygame.display.update()"
   ]
  }
 ],
 "metadata": {
  "kernelspec": {
   "display_name": "Python 3 (ipykernel)",
   "language": "python",
   "name": "python3"
  },
  "language_info": {
   "codemirror_mode": {
    "name": "ipython",
    "version": 3
   },
   "file_extension": ".py",
   "mimetype": "text/x-python",
   "name": "python",
   "nbconvert_exporter": "python",
   "pygments_lexer": "ipython3",
   "version": "3.10.5"
  }
 },
 "nbformat": 4,
 "nbformat_minor": 5
}
